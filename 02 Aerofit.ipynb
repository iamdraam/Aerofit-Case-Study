{
 "cells": [
  {
   "cell_type": "markdown",
   "id": "d8a77eab",
   "metadata": {},
   "source": [
    "# Q-1) Importing data and doing usual data analysis"
   ]
  },
  {
   "cell_type": "code",
   "execution_count": 1,
   "id": "11b78374",
   "metadata": {},
   "outputs": [],
   "source": [
    "import pandas as pd\n",
    "import numpy as np\n",
    "import seaborn as sns\n",
    "import matplotlib.pyplot as plt"
   ]
  },
  {
   "cell_type": "code",
   "execution_count": 2,
   "id": "688592f1",
   "metadata": {},
   "outputs": [],
   "source": [
    "df=pd.read_csv('aerofit_treadmill.csv')"
   ]
  },
  {
   "cell_type": "markdown",
   "id": "a614bd37",
   "metadata": {},
   "source": [
    "# Checking for duplicate values in data"
   ]
  },
  {
   "cell_type": "code",
   "execution_count": 3,
   "id": "46c21433",
   "metadata": {
    "scrolled": true
   },
   "outputs": [
    {
     "data": {
      "text/plain": [
       "False"
      ]
     },
     "execution_count": 3,
     "metadata": {},
     "output_type": "execute_result"
    }
   ],
   "source": [
    "df.duplicated().any()"
   ]
  },
  {
   "cell_type": "markdown",
   "id": "b5e30764",
   "metadata": {},
   "source": [
    "# Columns in data"
   ]
  },
  {
   "cell_type": "code",
   "execution_count": 4,
   "id": "648dbd4f",
   "metadata": {
    "scrolled": true
   },
   "outputs": [
    {
     "name": "stdout",
     "output_type": "stream",
     "text": [
      "Index(['Product', 'Age', 'Gender', 'Education', 'MaritalStatus', 'Usage',\n",
      "       'Fitness', 'Income', 'Miles'],\n",
      "      dtype='object')\n"
     ]
    }
   ],
   "source": [
    "print(df.columns)"
   ]
  },
  {
   "cell_type": "markdown",
   "id": "fe63ea05",
   "metadata": {},
   "source": [
    "# Types of Treadmill Products"
   ]
  },
  {
   "cell_type": "code",
   "execution_count": 5,
   "id": "bc29b624",
   "metadata": {
    "scrolled": false
   },
   "outputs": [
    {
     "name": "stdout",
     "output_type": "stream",
     "text": [
      "Number of unique types of treadmill product:  3\n",
      "types of unique treadmill products ['KP281' 'KP481' 'KP781']\n"
     ]
    }
   ],
   "source": [
    "print(\"Number of unique types of treadmill product: \",df['Product'].nunique())\n",
    "print(\"types of unique treadmill products\",df['Product'].unique())"
   ]
  },
  {
   "cell_type": "markdown",
   "id": "29f0d39e",
   "metadata": {},
   "source": [
    "# Age range using treadmill with average age "
   ]
  },
  {
   "cell_type": "code",
   "execution_count": 6,
   "id": "02171a67",
   "metadata": {},
   "outputs": [
    {
     "name": "stdout",
     "output_type": "stream",
     "text": [
      "Ages of customers using treadmills ranges from 18 years to 50 years\n",
      "Average age of customers using treadmills  28.788888888888888\n"
     ]
    }
   ],
   "source": [
    "print(\"Ages of customers using treadmills ranges from\",df.Age.min(),\"years to\",df.Age.max(),\"years\")\n",
    "print(\"Average age of customers using treadmills \",df[\"Age\"].mean())"
   ]
  },
  {
   "cell_type": "markdown",
   "id": "26d4fb68",
   "metadata": {},
   "source": [
    "# Types of Genders using Treadmills"
   ]
  },
  {
   "cell_type": "code",
   "execution_count": 7,
   "id": "c9f50d94",
   "metadata": {
    "scrolled": false
   },
   "outputs": [
    {
     "name": "stdout",
     "output_type": "stream",
     "text": [
      "Genders using treadmills  ['Male' 'Female']\n"
     ]
    }
   ],
   "source": [
    "print(\"Genders using treadmills \",df['Gender'].unique())"
   ]
  },
  {
   "cell_type": "markdown",
   "id": "6be5b85e",
   "metadata": {},
   "source": [
    "# Education range of customers using Treadmills"
   ]
  },
  {
   "cell_type": "code",
   "execution_count": 8,
   "id": "d2e8a1f4",
   "metadata": {},
   "outputs": [
    {
     "name": "stdout",
     "output_type": "stream",
     "text": [
      "Education range using treadmill products [14 15 12 13 16 18 20 21]\n",
      "Average of education range using treadmill is from 12 years to  21 years with an average of 15.572222222222223 years\n"
     ]
    }
   ],
   "source": [
    "print(\"Education range using treadmill products\",df['Education'].unique())\n",
    "print(\"Average of education range using treadmill is from\",df.Education.min(),\"years to \",df.Education.max(),\"years with an average of\",df.Education.mean(),\"years\")"
   ]
  },
  {
   "cell_type": "markdown",
   "id": "ce29b5d2",
   "metadata": {},
   "source": [
    "# Marital status of customers using Treadmills"
   ]
  },
  {
   "cell_type": "code",
   "execution_count": 9,
   "id": "19c23ef6",
   "metadata": {},
   "outputs": [
    {
     "name": "stdout",
     "output_type": "stream",
     "text": [
      "types of marital status of people using treadmill is 2\n",
      "Marital status of people using treadmill ['Single' 'Partnered']\n"
     ]
    }
   ],
   "source": [
    "print(\"types of marital status of people using treadmill is\",df['MaritalStatus'].nunique())\n",
    "print(\"Marital status of people using treadmill\",df['MaritalStatus'].unique())"
   ]
  },
  {
   "cell_type": "markdown",
   "id": "c0d42b4e",
   "metadata": {},
   "source": [
    "# Usage range of customers"
   ]
  },
  {
   "cell_type": "code",
   "execution_count": 28,
   "id": "34545275",
   "metadata": {},
   "outputs": [
    {
     "name": "stdout",
     "output_type": "stream",
     "text": [
      "Usage range of customers using treadmill 2 to 7\n"
     ]
    }
   ],
   "source": [
    "print(\"Usage range of customers using treadmill\",df.Usage.min(),\"to\",df.Usage.max())"
   ]
  },
  {
   "cell_type": "markdown",
   "id": "c643d2ae",
   "metadata": {},
   "source": [
    "# Fitness "
   ]
  },
  {
   "cell_type": "code",
   "execution_count": 29,
   "id": "39112566",
   "metadata": {},
   "outputs": [
    {
     "name": "stdout",
     "output_type": "stream",
     "text": [
      "Fitness range of customers using treadmill ranges from 1 to 5\n",
      "Fitness range range is [4 3 2 1 5]\n"
     ]
    }
   ],
   "source": [
    "print(\"Fitness range of customers using treadmill ranges from\",df.Fitness.min(),\"to\",df.Fitness.max())\n",
    "print(\"Fitness range range is\",df['Fitness'].unique())"
   ]
  },
  {
   "cell_type": "markdown",
   "id": "86c03a84",
   "metadata": {},
   "source": [
    "# Income"
   ]
  },
  {
   "cell_type": "code",
   "execution_count": 30,
   "id": "2cd5aa40",
   "metadata": {},
   "outputs": [
    {
     "name": "stdout",
     "output_type": "stream",
     "text": [
      "Income of the people using treamill is from 29562 to 104581\n",
      "Average Income of the people using treadmill is 53719.57777777778\n"
     ]
    }
   ],
   "source": [
    "print(\"Income of the people using treamill is from\",df.Income.min(),\"to\",df.Income.max())\n",
    "print(\"Average Income of the people using treadmill is\",df['Income'].mean())"
   ]
  },
  {
   "cell_type": "markdown",
   "id": "395afd25",
   "metadata": {},
   "source": [
    "# Miles"
   ]
  },
  {
   "cell_type": "code",
   "execution_count": 31,
   "id": "34f0ac4f",
   "metadata": {},
   "outputs": [
    {
     "name": "stdout",
     "output_type": "stream",
     "text": [
      "Range of the miles done using treamill by the customes is from 21 to 360\n",
      "Average miles done by the customers on treadmill is 103.19444444444444\n"
     ]
    }
   ],
   "source": [
    "print(\"Range of the miles done using treamill by the customes is from\",df.Miles.min(),\"to\",df.Miles.max())\n",
    "print(\"Average miles done by the customers on treadmill is\",df['Miles'].mean())"
   ]
  },
  {
   "cell_type": "markdown",
   "id": "3690195e",
   "metadata": {},
   "source": [
    "# Dropping Miles column from the data"
   ]
  },
  {
   "cell_type": "code",
   "execution_count": 32,
   "id": "66b707ba",
   "metadata": {},
   "outputs": [
    {
     "data": {
      "text/html": [
       "<div>\n",
       "<style scoped>\n",
       "    .dataframe tbody tr th:only-of-type {\n",
       "        vertical-align: middle;\n",
       "    }\n",
       "\n",
       "    .dataframe tbody tr th {\n",
       "        vertical-align: top;\n",
       "    }\n",
       "\n",
       "    .dataframe thead th {\n",
       "        text-align: right;\n",
       "    }\n",
       "</style>\n",
       "<table border=\"1\" class=\"dataframe\">\n",
       "  <thead>\n",
       "    <tr style=\"text-align: right;\">\n",
       "      <th></th>\n",
       "      <th>Product</th>\n",
       "      <th>Age</th>\n",
       "      <th>Gender</th>\n",
       "      <th>Education</th>\n",
       "      <th>MaritalStatus</th>\n",
       "      <th>Usage</th>\n",
       "      <th>Fitness</th>\n",
       "      <th>Income</th>\n",
       "    </tr>\n",
       "  </thead>\n",
       "  <tbody>\n",
       "    <tr>\n",
       "      <th>0</th>\n",
       "      <td>KP281</td>\n",
       "      <td>18</td>\n",
       "      <td>Male</td>\n",
       "      <td>14</td>\n",
       "      <td>Single</td>\n",
       "      <td>3</td>\n",
       "      <td>4</td>\n",
       "      <td>29562</td>\n",
       "    </tr>\n",
       "    <tr>\n",
       "      <th>1</th>\n",
       "      <td>KP281</td>\n",
       "      <td>19</td>\n",
       "      <td>Male</td>\n",
       "      <td>15</td>\n",
       "      <td>Single</td>\n",
       "      <td>2</td>\n",
       "      <td>3</td>\n",
       "      <td>31836</td>\n",
       "    </tr>\n",
       "    <tr>\n",
       "      <th>2</th>\n",
       "      <td>KP281</td>\n",
       "      <td>19</td>\n",
       "      <td>Female</td>\n",
       "      <td>14</td>\n",
       "      <td>Partnered</td>\n",
       "      <td>4</td>\n",
       "      <td>3</td>\n",
       "      <td>30699</td>\n",
       "    </tr>\n",
       "    <tr>\n",
       "      <th>3</th>\n",
       "      <td>KP281</td>\n",
       "      <td>19</td>\n",
       "      <td>Male</td>\n",
       "      <td>12</td>\n",
       "      <td>Single</td>\n",
       "      <td>3</td>\n",
       "      <td>3</td>\n",
       "      <td>32973</td>\n",
       "    </tr>\n",
       "    <tr>\n",
       "      <th>4</th>\n",
       "      <td>KP281</td>\n",
       "      <td>20</td>\n",
       "      <td>Male</td>\n",
       "      <td>13</td>\n",
       "      <td>Partnered</td>\n",
       "      <td>4</td>\n",
       "      <td>2</td>\n",
       "      <td>35247</td>\n",
       "    </tr>\n",
       "    <tr>\n",
       "      <th>...</th>\n",
       "      <td>...</td>\n",
       "      <td>...</td>\n",
       "      <td>...</td>\n",
       "      <td>...</td>\n",
       "      <td>...</td>\n",
       "      <td>...</td>\n",
       "      <td>...</td>\n",
       "      <td>...</td>\n",
       "    </tr>\n",
       "    <tr>\n",
       "      <th>175</th>\n",
       "      <td>KP781</td>\n",
       "      <td>40</td>\n",
       "      <td>Male</td>\n",
       "      <td>21</td>\n",
       "      <td>Single</td>\n",
       "      <td>6</td>\n",
       "      <td>5</td>\n",
       "      <td>83416</td>\n",
       "    </tr>\n",
       "    <tr>\n",
       "      <th>176</th>\n",
       "      <td>KP781</td>\n",
       "      <td>42</td>\n",
       "      <td>Male</td>\n",
       "      <td>18</td>\n",
       "      <td>Single</td>\n",
       "      <td>5</td>\n",
       "      <td>4</td>\n",
       "      <td>89641</td>\n",
       "    </tr>\n",
       "    <tr>\n",
       "      <th>177</th>\n",
       "      <td>KP781</td>\n",
       "      <td>45</td>\n",
       "      <td>Male</td>\n",
       "      <td>16</td>\n",
       "      <td>Single</td>\n",
       "      <td>5</td>\n",
       "      <td>5</td>\n",
       "      <td>90886</td>\n",
       "    </tr>\n",
       "    <tr>\n",
       "      <th>178</th>\n",
       "      <td>KP781</td>\n",
       "      <td>47</td>\n",
       "      <td>Male</td>\n",
       "      <td>18</td>\n",
       "      <td>Partnered</td>\n",
       "      <td>4</td>\n",
       "      <td>5</td>\n",
       "      <td>104581</td>\n",
       "    </tr>\n",
       "    <tr>\n",
       "      <th>179</th>\n",
       "      <td>KP781</td>\n",
       "      <td>48</td>\n",
       "      <td>Male</td>\n",
       "      <td>18</td>\n",
       "      <td>Partnered</td>\n",
       "      <td>4</td>\n",
       "      <td>5</td>\n",
       "      <td>95508</td>\n",
       "    </tr>\n",
       "  </tbody>\n",
       "</table>\n",
       "<p>180 rows × 8 columns</p>\n",
       "</div>"
      ],
      "text/plain": [
       "    Product  Age  Gender  Education MaritalStatus  Usage  Fitness  Income\n",
       "0     KP281   18    Male         14        Single      3        4   29562\n",
       "1     KP281   19    Male         15        Single      2        3   31836\n",
       "2     KP281   19  Female         14     Partnered      4        3   30699\n",
       "3     KP281   19    Male         12        Single      3        3   32973\n",
       "4     KP281   20    Male         13     Partnered      4        2   35247\n",
       "..      ...  ...     ...        ...           ...    ...      ...     ...\n",
       "175   KP781   40    Male         21        Single      6        5   83416\n",
       "176   KP781   42    Male         18        Single      5        4   89641\n",
       "177   KP781   45    Male         16        Single      5        5   90886\n",
       "178   KP781   47    Male         18     Partnered      4        5  104581\n",
       "179   KP781   48    Male         18     Partnered      4        5   95508\n",
       "\n",
       "[180 rows x 8 columns]"
      ]
     },
     "execution_count": 32,
     "metadata": {},
     "output_type": "execute_result"
    }
   ],
   "source": [
    "df.drop(['Miles'],axis=1)"
   ]
  },
  {
   "cell_type": "markdown",
   "id": "07bb423a",
   "metadata": {},
   "source": [
    "# value Counts"
   ]
  },
  {
   "cell_type": "code",
   "execution_count": 33,
   "id": "2b312784",
   "metadata": {},
   "outputs": [
    {
     "data": {
      "text/plain": [
       "Product\n",
       "KP281    80\n",
       "KP481    60\n",
       "KP781    40\n",
       "dtype: int64"
      ]
     },
     "execution_count": 33,
     "metadata": {},
     "output_type": "execute_result"
    }
   ],
   "source": [
    "df.value_counts('Product')"
   ]
  },
  {
   "cell_type": "code",
   "execution_count": 34,
   "id": "1e9ec100",
   "metadata": {},
   "outputs": [
    {
     "data": {
      "text/plain": [
       "Age\n",
       "25    25\n",
       "23    18\n",
       "24    12\n",
       "26    12\n",
       "28     9\n",
       "35     8\n",
       "33     8\n",
       "30     7\n",
       "38     7\n",
       "21     7\n",
       "22     7\n",
       "27     7\n",
       "31     6\n",
       "34     6\n",
       "29     6\n",
       "20     5\n",
       "40     5\n",
       "32     4\n",
       "19     4\n",
       "48     2\n",
       "37     2\n",
       "47     2\n",
       "45     2\n",
       "44     1\n",
       "46     1\n",
       "18     1\n",
       "43     1\n",
       "42     1\n",
       "41     1\n",
       "39     1\n",
       "36     1\n",
       "50     1\n",
       "dtype: int64"
      ]
     },
     "execution_count": 34,
     "metadata": {},
     "output_type": "execute_result"
    }
   ],
   "source": [
    "df.value_counts('Age')"
   ]
  },
  {
   "cell_type": "code",
   "execution_count": 35,
   "id": "a1878ba4",
   "metadata": {},
   "outputs": [
    {
     "data": {
      "text/plain": [
       "Gender\n",
       "Male      104\n",
       "Female     76\n",
       "dtype: int64"
      ]
     },
     "execution_count": 35,
     "metadata": {},
     "output_type": "execute_result"
    }
   ],
   "source": [
    "df.value_counts('Gender')"
   ]
  },
  {
   "cell_type": "code",
   "execution_count": 36,
   "id": "12520f6a",
   "metadata": {},
   "outputs": [
    {
     "data": {
      "text/plain": [
       "Education\n",
       "16    85\n",
       "14    55\n",
       "18    23\n",
       "13     5\n",
       "15     5\n",
       "12     3\n",
       "21     3\n",
       "20     1\n",
       "dtype: int64"
      ]
     },
     "execution_count": 36,
     "metadata": {},
     "output_type": "execute_result"
    }
   ],
   "source": [
    "df.value_counts('Education')"
   ]
  },
  {
   "cell_type": "code",
   "execution_count": 37,
   "id": "173ca72e",
   "metadata": {},
   "outputs": [
    {
     "data": {
      "text/plain": [
       "MaritalStatus\n",
       "Partnered    107\n",
       "Single        73\n",
       "dtype: int64"
      ]
     },
     "execution_count": 37,
     "metadata": {},
     "output_type": "execute_result"
    }
   ],
   "source": [
    "df.value_counts('MaritalStatus')"
   ]
  },
  {
   "cell_type": "code",
   "execution_count": 38,
   "id": "aaeb7261",
   "metadata": {},
   "outputs": [
    {
     "data": {
      "text/plain": [
       "Usage\n",
       "3    69\n",
       "4    52\n",
       "2    33\n",
       "5    17\n",
       "6     7\n",
       "7     2\n",
       "dtype: int64"
      ]
     },
     "execution_count": 38,
     "metadata": {},
     "output_type": "execute_result"
    }
   ],
   "source": [
    "df.value_counts('Usage')"
   ]
  },
  {
   "cell_type": "code",
   "execution_count": 39,
   "id": "e7dc5501",
   "metadata": {},
   "outputs": [
    {
     "data": {
      "text/plain": [
       "Fitness\n",
       "3    97\n",
       "5    31\n",
       "2    26\n",
       "4    24\n",
       "1     2\n",
       "dtype: int64"
      ]
     },
     "execution_count": 39,
     "metadata": {},
     "output_type": "execute_result"
    }
   ],
   "source": [
    "df.value_counts('Fitness')"
   ]
  },
  {
   "cell_type": "code",
   "execution_count": 40,
   "id": "c521e5dc",
   "metadata": {},
   "outputs": [
    {
     "data": {
      "text/plain": [
       "Income\n",
       "45480    14\n",
       "52302     9\n",
       "46617     8\n",
       "53439     8\n",
       "54576     8\n",
       "         ..\n",
       "53536     1\n",
       "54781     1\n",
       "58516     1\n",
       "55713     1\n",
       "29562     1\n",
       "Length: 62, dtype: int64"
      ]
     },
     "execution_count": 40,
     "metadata": {},
     "output_type": "execute_result"
    }
   ],
   "source": [
    "df.value_counts('Income')"
   ]
  },
  {
   "cell_type": "code",
   "execution_count": 41,
   "id": "078cedb3",
   "metadata": {},
   "outputs": [
    {
     "data": {
      "text/plain": [
       "Miles\n",
       "85     27\n",
       "95     12\n",
       "75     10\n",
       "66     10\n",
       "106     9\n",
       "47      9\n",
       "94      8\n",
       "113     8\n",
       "53      7\n",
       "100     7\n",
       "180     6\n",
       "64      6\n",
       "56      6\n",
       "200     6\n",
       "127     5\n",
       "160     5\n",
       "42      4\n",
       "150     4\n",
       "170     3\n",
       "103     3\n",
       "120     3\n",
       "38      3\n",
       "74      3\n",
       "132     2\n",
       "141     2\n",
       "260     1\n",
       "280     1\n",
       "240     1\n",
       "300     1\n",
       "212     1\n",
       "21      1\n",
       "188     1\n",
       "169     1\n",
       "140     1\n",
       "112     1\n",
       "80      1\n",
       "360     1\n",
       "dtype: int64"
      ]
     },
     "execution_count": 41,
     "metadata": {},
     "output_type": "execute_result"
    }
   ],
   "source": [
    "df.value_counts('Miles')"
   ]
  },
  {
   "cell_type": "markdown",
   "id": "9ea3de41",
   "metadata": {},
   "source": [
    "# Univariate/Bivariate"
   ]
  },
  {
   "cell_type": "code",
   "execution_count": 45,
   "id": "9b34d7cf",
   "metadata": {},
   "outputs": [
    {
     "ename": "TypeError",
     "evalue": "Axes.boxplot() got an unexpected keyword argument 'kind'",
     "output_type": "error",
     "traceback": [
      "\u001b[1;31m---------------------------------------------------------------------------\u001b[0m",
      "\u001b[1;31mTypeError\u001b[0m                                 Traceback (most recent call last)",
      "Input \u001b[1;32mIn [45]\u001b[0m, in \u001b[0;36m<module>\u001b[1;34m\u001b[0m\n\u001b[1;32m----> 1\u001b[0m \u001b[43msns\u001b[49m\u001b[38;5;241;43m.\u001b[39;49m\u001b[43mboxplot\u001b[49m\u001b[43m(\u001b[49m\u001b[43mdata\u001b[49m\u001b[38;5;241;43m=\u001b[39;49m\u001b[43mdf\u001b[49m\u001b[43m,\u001b[49m\u001b[43mx\u001b[49m\u001b[38;5;241;43m=\u001b[39;49m\u001b[38;5;124;43m'\u001b[39;49m\u001b[38;5;124;43mAge\u001b[39;49m\u001b[38;5;124;43m'\u001b[39;49m\u001b[43m,\u001b[49m\u001b[43mhue\u001b[49m\u001b[38;5;241;43m=\u001b[39;49m\u001b[38;5;124;43m'\u001b[39;49m\u001b[38;5;124;43mProduct\u001b[39;49m\u001b[38;5;124;43m'\u001b[39;49m\u001b[43m,\u001b[49m\u001b[43mkind\u001b[49m\u001b[38;5;241;43m=\u001b[39;49m\u001b[38;5;124;43m'\u001b[39;49m\u001b[38;5;124;43mhist\u001b[39;49m\u001b[38;5;124;43m'\u001b[39;49m\u001b[43m)\u001b[49m\n\u001b[0;32m      2\u001b[0m plt\u001b[38;5;241m.\u001b[39mshow()\n\u001b[0;32m      3\u001b[0m sns\u001b[38;5;241m=\u001b[39mboxplot(data\u001b[38;5;241m=\u001b[39mdf,x\u001b[38;5;241m=\u001b[39m\u001b[38;5;124m'\u001b[39m\u001b[38;5;124mAge\u001b[39m\u001b[38;5;124m'\u001b[39m,hue\u001b[38;5;241m=\u001b[39m\u001b[38;5;124m'\u001b[39m\u001b[38;5;124mProduct\u001b[39m\u001b[38;5;124m'\u001b[39m,kind\u001b[38;5;241m=\u001b[39m\u001b[38;5;124m'\u001b[39m\u001b[38;5;124mkde\u001b[39m\u001b[38;5;124m'\u001b[39m,rug\u001b[38;5;241m=\u001b[39m\u001b[38;5;28;01mTrue\u001b[39;00m)\n",
      "File \u001b[1;32m~\\AppData\\Local\\Programs\\Python\\Python310\\lib\\site-packages\\seaborn\\_decorators.py:46\u001b[0m, in \u001b[0;36m_deprecate_positional_args.<locals>.inner_f\u001b[1;34m(*args, **kwargs)\u001b[0m\n\u001b[0;32m     36\u001b[0m     warnings\u001b[38;5;241m.\u001b[39mwarn(\n\u001b[0;32m     37\u001b[0m         \u001b[38;5;124m\"\u001b[39m\u001b[38;5;124mPass the following variable\u001b[39m\u001b[38;5;132;01m{}\u001b[39;00m\u001b[38;5;124m as \u001b[39m\u001b[38;5;132;01m{}\u001b[39;00m\u001b[38;5;124mkeyword arg\u001b[39m\u001b[38;5;132;01m{}\u001b[39;00m\u001b[38;5;124m: \u001b[39m\u001b[38;5;132;01m{}\u001b[39;00m\u001b[38;5;124m. \u001b[39m\u001b[38;5;124m\"\u001b[39m\n\u001b[0;32m     38\u001b[0m         \u001b[38;5;124m\"\u001b[39m\u001b[38;5;124mFrom version 0.12, the only valid positional argument \u001b[39m\u001b[38;5;124m\"\u001b[39m\n\u001b[1;32m   (...)\u001b[0m\n\u001b[0;32m     43\u001b[0m         \u001b[38;5;167;01mFutureWarning\u001b[39;00m\n\u001b[0;32m     44\u001b[0m     )\n\u001b[0;32m     45\u001b[0m kwargs\u001b[38;5;241m.\u001b[39mupdate({k: arg \u001b[38;5;28;01mfor\u001b[39;00m k, arg \u001b[38;5;129;01min\u001b[39;00m \u001b[38;5;28mzip\u001b[39m(sig\u001b[38;5;241m.\u001b[39mparameters, args)})\n\u001b[1;32m---> 46\u001b[0m \u001b[38;5;28;01mreturn\u001b[39;00m f(\u001b[38;5;241m*\u001b[39m\u001b[38;5;241m*\u001b[39mkwargs)\n",
      "File \u001b[1;32m~\\AppData\\Local\\Programs\\Python\\Python310\\lib\\site-packages\\seaborn\\categorical.py:2251\u001b[0m, in \u001b[0;36mboxplot\u001b[1;34m(x, y, hue, data, order, hue_order, orient, color, palette, saturation, width, dodge, fliersize, linewidth, whis, ax, **kwargs)\u001b[0m\n\u001b[0;32m   2248\u001b[0m     ax \u001b[38;5;241m=\u001b[39m plt\u001b[38;5;241m.\u001b[39mgca()\n\u001b[0;32m   2249\u001b[0m kwargs\u001b[38;5;241m.\u001b[39mupdate(\u001b[38;5;28mdict\u001b[39m(whis\u001b[38;5;241m=\u001b[39mwhis))\n\u001b[1;32m-> 2251\u001b[0m \u001b[43mplotter\u001b[49m\u001b[38;5;241;43m.\u001b[39;49m\u001b[43mplot\u001b[49m\u001b[43m(\u001b[49m\u001b[43max\u001b[49m\u001b[43m,\u001b[49m\u001b[43m \u001b[49m\u001b[43mkwargs\u001b[49m\u001b[43m)\u001b[49m\n\u001b[0;32m   2252\u001b[0m \u001b[38;5;28;01mreturn\u001b[39;00m ax\n",
      "File \u001b[1;32m~\\AppData\\Local\\Programs\\Python\\Python310\\lib\\site-packages\\seaborn\\categorical.py:509\u001b[0m, in \u001b[0;36m_BoxPlotter.plot\u001b[1;34m(self, ax, boxplot_kws)\u001b[0m\n\u001b[0;32m    507\u001b[0m \u001b[38;5;28;01mdef\u001b[39;00m \u001b[38;5;21mplot\u001b[39m(\u001b[38;5;28mself\u001b[39m, ax, boxplot_kws):\n\u001b[0;32m    508\u001b[0m     \u001b[38;5;124;03m\"\"\"Make the plot.\"\"\"\u001b[39;00m\n\u001b[1;32m--> 509\u001b[0m     \u001b[38;5;28;43mself\u001b[39;49m\u001b[38;5;241;43m.\u001b[39;49m\u001b[43mdraw_boxplot\u001b[49m\u001b[43m(\u001b[49m\u001b[43max\u001b[49m\u001b[43m,\u001b[49m\u001b[43m \u001b[49m\u001b[43mboxplot_kws\u001b[49m\u001b[43m)\u001b[49m\n\u001b[0;32m    510\u001b[0m     \u001b[38;5;28mself\u001b[39m\u001b[38;5;241m.\u001b[39mannotate_axes(ax)\n\u001b[0;32m    511\u001b[0m     \u001b[38;5;28;01mif\u001b[39;00m \u001b[38;5;28mself\u001b[39m\u001b[38;5;241m.\u001b[39morient \u001b[38;5;241m==\u001b[39m \u001b[38;5;124m\"\u001b[39m\u001b[38;5;124mh\u001b[39m\u001b[38;5;124m\"\u001b[39m:\n",
      "File \u001b[1;32m~\\AppData\\Local\\Programs\\Python\\Python310\\lib\\site-packages\\seaborn\\categorical.py:441\u001b[0m, in \u001b[0;36m_BoxPlotter.draw_boxplot\u001b[1;34m(self, ax, kws)\u001b[0m\n\u001b[0;32m    438\u001b[0m \u001b[38;5;28;01mif\u001b[39;00m box_data\u001b[38;5;241m.\u001b[39msize \u001b[38;5;241m==\u001b[39m \u001b[38;5;241m0\u001b[39m:\n\u001b[0;32m    439\u001b[0m     \u001b[38;5;28;01mcontinue\u001b[39;00m\n\u001b[1;32m--> 441\u001b[0m artist_dict \u001b[38;5;241m=\u001b[39m ax\u001b[38;5;241m.\u001b[39mboxplot(box_data,\n\u001b[0;32m    442\u001b[0m                          vert\u001b[38;5;241m=\u001b[39mvert,\n\u001b[0;32m    443\u001b[0m                          patch_artist\u001b[38;5;241m=\u001b[39m\u001b[38;5;28;01mTrue\u001b[39;00m,\n\u001b[0;32m    444\u001b[0m                          positions\u001b[38;5;241m=\u001b[39m[i],\n\u001b[0;32m    445\u001b[0m                          widths\u001b[38;5;241m=\u001b[39m\u001b[38;5;28mself\u001b[39m\u001b[38;5;241m.\u001b[39mwidth,\n\u001b[0;32m    446\u001b[0m                          \u001b[38;5;241m*\u001b[39m\u001b[38;5;241m*\u001b[39mkws)\n\u001b[0;32m    447\u001b[0m color \u001b[38;5;241m=\u001b[39m \u001b[38;5;28mself\u001b[39m\u001b[38;5;241m.\u001b[39mcolors[i]\n\u001b[0;32m    448\u001b[0m \u001b[38;5;28mself\u001b[39m\u001b[38;5;241m.\u001b[39mrestyle_boxplot(artist_dict, color, props)\n",
      "File \u001b[1;32m~\\AppData\\Local\\Programs\\Python\\Python310\\lib\\site-packages\\matplotlib\\__init__.py:1412\u001b[0m, in \u001b[0;36m_preprocess_data.<locals>.inner\u001b[1;34m(ax, data, *args, **kwargs)\u001b[0m\n\u001b[0;32m   1409\u001b[0m \u001b[38;5;129m@functools\u001b[39m\u001b[38;5;241m.\u001b[39mwraps(func)\n\u001b[0;32m   1410\u001b[0m \u001b[38;5;28;01mdef\u001b[39;00m \u001b[38;5;21minner\u001b[39m(ax, \u001b[38;5;241m*\u001b[39margs, data\u001b[38;5;241m=\u001b[39m\u001b[38;5;28;01mNone\u001b[39;00m, \u001b[38;5;241m*\u001b[39m\u001b[38;5;241m*\u001b[39mkwargs):\n\u001b[0;32m   1411\u001b[0m     \u001b[38;5;28;01mif\u001b[39;00m data \u001b[38;5;129;01mis\u001b[39;00m \u001b[38;5;28;01mNone\u001b[39;00m:\n\u001b[1;32m-> 1412\u001b[0m         \u001b[38;5;28;01mreturn\u001b[39;00m func(ax, \u001b[38;5;241m*\u001b[39m\u001b[38;5;28mmap\u001b[39m(sanitize_sequence, args), \u001b[38;5;241m*\u001b[39m\u001b[38;5;241m*\u001b[39mkwargs)\n\u001b[0;32m   1414\u001b[0m     bound \u001b[38;5;241m=\u001b[39m new_sig\u001b[38;5;241m.\u001b[39mbind(ax, \u001b[38;5;241m*\u001b[39margs, \u001b[38;5;241m*\u001b[39m\u001b[38;5;241m*\u001b[39mkwargs)\n\u001b[0;32m   1415\u001b[0m     auto_label \u001b[38;5;241m=\u001b[39m (bound\u001b[38;5;241m.\u001b[39marguments\u001b[38;5;241m.\u001b[39mget(label_namer)\n\u001b[0;32m   1416\u001b[0m                   \u001b[38;5;129;01mor\u001b[39;00m bound\u001b[38;5;241m.\u001b[39mkwargs\u001b[38;5;241m.\u001b[39mget(label_namer))\n",
      "\u001b[1;31mTypeError\u001b[0m: Axes.boxplot() got an unexpected keyword argument 'kind'"
     ]
    },
    {
     "data": {
      "image/png": "[encoded data removed]",
      "text/plain": [
       "<Figure size 432x288 with 1 Axes>"
      ]
     },
     "metadata": {
      "needs_background": "light"
     },
     "output_type": "display_data"
    }
   ],
   "source": [
    "sns.boxplot(data=df,x='Age',hue='Product',kind='hist')\n",
    "plt.show()\n",
    "sns=boxplot(data=df,x='Age',hue='Product',kind='kde',rug=True)\n",
    "plt.show()"
   ]
  },
  {
   "cell_type": "code",
   "execution_count": null,
   "id": "b3ee4d38",
   "metadata": {},
   "outputs": [],
   "source": []
  },
  {
   "cell_type": "code",
   "execution_count": null,
   "id": "3ba2d1f3",
   "metadata": {},
   "outputs": [],
   "source": []
  },
  {
   "cell_type": "code",
   "execution_count": null,
   "id": "84dbc5f2",
   "metadata": {},
   "outputs": [],
   "source": []
  }
 ],
 "metadata": {
  "kernelspec": {
   "display_name": "Python 3 (ipykernel)",
   "language": "python",
   "name": "python3"
  },
  "language_info": {
   "codemirror_mode": {
    "name": "ipython",
    "version": 3
   },
   "file_extension": ".py",
   "mimetype": "text/x-python",
   "name": "python",
   "nbconvert_exporter": "python",
   "pygments_lexer": "ipython3",
   "version": "3.10.2"
  }
 },
 "nbformat": 4,
 "nbformat_minor": 5
}
